{
 "cells": [
  {
   "attachments": {},
   "cell_type": "markdown",
   "metadata": {},
   "source": [
    "# Documentacion en python"
   ]
  },
  {
   "attachments": {},
   "cell_type": "markdown",
   "metadata": {},
   "source": [
    "### Docstrings - cadenas para documentación"
   ]
  },
  {
   "cell_type": "code",
   "execution_count": 1,
   "metadata": {},
   "outputs": [],
   "source": [
    "def saludar (nombre):\n",
    "    \"\"\"\n",
    "    Esto será un comentario de la funcion saludar.\n",
    "    Esta funcion recobe un parametro de tipo string con el nombre de una persona\n",
    "    e imprimira por pantalla un saludo concatenando un saludo con el parametro\n",
    "    \"\"\"\n",
    "    print(\"Buenos días \" + nombre)\n"
   ]
  },
  {
   "cell_type": "code",
   "execution_count": 3,
   "metadata": {},
   "outputs": [
    {
     "name": "stdout",
     "output_type": "stream",
     "text": [
      "Buenos días Bebis\n",
      "Help on function saludar in module __main__:\n",
      "\n",
      "saludar(nombre)\n",
      "    Esto será un comentario de la funcion saludar.\n",
      "    Esta funcion recobe un parametro de tipo string con el nombre de una persona\n",
      "    e imprimira por pantalla un saludo concatenando un saludo con el parametro\n",
      "\n"
     ]
    }
   ],
   "source": [
    "nombre = \"Bebis\"\n",
    "saludar(nombre)\n",
    "\"\"\"\n",
    "saludar(\"Bebis\")\n",
    "\"\"\"\n",
    "help(saludar)"
   ]
  },
  {
   "cell_type": "code",
   "execution_count": 4,
   "metadata": {},
   "outputs": [],
   "source": [
    "class Saludos:\n",
    "    \"\"\"\n",
    "    Esta clase tendra dos funciones, buenos_dias y adios\n",
    "    Ambas funciones recibiran como parametro un nombre\n",
    "    \"\"\"\n",
    "    def buenos_dias(self, nombre):\n",
    "        \"\"\"Esta funcion sirve para dar los buenos dias a una persona\"\"\"\n",
    "        print(\"buenos dias {}\".format(nombre))\n",
    "\n",
    "    def adios(self, nombre):\n",
    "        \"\"\"Esta funcion sirve para despedirnos de una persona\"\"\"\n",
    "        print(\"nos vemos luego \"+ nombre)"
   ]
  },
  {
   "cell_type": "code",
   "execution_count": 5,
   "metadata": {},
   "outputs": [
    {
     "name": "stdout",
     "output_type": "stream",
     "text": [
      "buenos dias Bebis\n",
      "nos vemos luego bebis\n"
     ]
    }
   ],
   "source": [
    "saludo = Saludos()\n",
    "saludo.buenos_dias(\"Bebis\")\n",
    "saludo.adios(\"bebis\")\n"
   ]
  },
  {
   "cell_type": "code",
   "execution_count": 6,
   "metadata": {},
   "outputs": [
    {
     "name": "stdout",
     "output_type": "stream",
     "text": [
      "Help on class Saludos in module __main__:\n",
      "\n",
      "class Saludos(builtins.object)\n",
      " |  Esta clase tendra dos funciones, buenos_dias y adios\n",
      " |  Ambas funciones recibiran como parametro un nombre\n",
      " |  \n",
      " |  Methods defined here:\n",
      " |  \n",
      " |  adios(self, nombre)\n",
      " |      Esta funcion sirve para despedirnos de una persona\n",
      " |  \n",
      " |  buenos_dias(self, nombre)\n",
      " |      Esta funcion sirve para dar los buenos dias a una persona\n",
      " |  \n",
      " |  ----------------------------------------------------------------------\n",
      " |  Data descriptors defined here:\n",
      " |  \n",
      " |  __dict__\n",
      " |      dictionary for instance variables (if defined)\n",
      " |  \n",
      " |  __weakref__\n",
      " |      list of weak references to the object (if defined)\n",
      "\n"
     ]
    }
   ],
   "source": [
    "help(Saludos)"
   ]
  },
  {
   "attachments": {},
   "cell_type": "markdown",
   "metadata": {},
   "source": [
    "# pydoc"
   ]
  },
  {
   "attachments": {},
   "cell_type": "markdown",
   "metadata": {},
   "source": [
    "### esto se ejecuta desde la terminal y es necesario escribir:\n",
    "## pydoc ruta_completa_del_archivo"
   ]
  },
  {
   "attachments": {},
   "cell_type": "markdown",
   "metadata": {},
   "source": [
    "### para generar un archivo html:\n",
    "## pydoc -w ruta_completa_del_archivo "
   ]
  },
  {
   "attachments": {},
   "cell_type": "markdown",
   "metadata": {},
   "source": []
  }
 ],
 "metadata": {
  "kernelspec": {
   "display_name": "myenv",
   "language": "python",
   "name": "myenv"
  },
  "language_info": {
   "codemirror_mode": {
    "name": "ipython",
    "version": 3
   },
   "file_extension": ".py",
   "mimetype": "text/x-python",
   "name": "python",
   "nbconvert_exporter": "python",
   "pygments_lexer": "ipython3",
   "version": "3.10.6"
  },
  "orig_nbformat": 4
 },
 "nbformat": 4,
 "nbformat_minor": 2
}
