{
 "cells": [
  {
   "attachments": {},
   "cell_type": "markdown",
   "metadata": {},
   "source": [
    "## SQLite = sistema de gestión de bases de datos relacionales"
   ]
  },
  {
   "cell_type": "code",
   "execution_count": 1,
   "metadata": {},
   "outputs": [],
   "source": [
    "import sqlite3"
   ]
  },
  {
   "cell_type": "code",
   "execution_count": 3,
   "metadata": {},
   "outputs": [],
   "source": [
    "coneccion = sqlite3.connect('basededatos1.db')"
   ]
  },
  {
   "cell_type": "code",
   "execution_count": 6,
   "metadata": {},
   "outputs": [],
   "source": [
    "coneccion.close()"
   ]
  },
  {
   "attachments": {},
   "cell_type": "markdown",
   "metadata": {},
   "source": [
    "### crear una nueva tabla\n"
   ]
  },
  {
   "cell_type": "code",
   "execution_count": 7,
   "metadata": {},
   "outputs": [],
   "source": [
    "coneccion = sqlite3.connect('basededatos1.db')\n",
    "cursor = coneccion.cursor()\n",
    "cursor.execute(\"CREATE TABLE PERSONAS (nombre TEXT, apellido1 TEXT, apellido2 TEXT, edad INTEGER)\")\n",
    "coneccion.commit()\n"
   ]
  },
  {
   "cell_type": "code",
   "execution_count": 9,
   "metadata": {},
   "outputs": [],
   "source": [
    "coneccion.close()"
   ]
  },
  {
   "attachments": {},
   "cell_type": "markdown",
   "metadata": {},
   "source": [
    "## insertar una fila a la base de datos"
   ]
  },
  {
   "cell_type": "code",
   "execution_count": 11,
   "metadata": {},
   "outputs": [],
   "source": [
    "coneccion = sqlite3.connect('basededatos1.db')\n",
    "cursor = coneccion.cursor()\n",
    "cursor.execute(\"INSERT INTO PERSONAS VALUES ('Antonio', 'Perez', 'Gomez', 35)\")\n",
    "coneccion.commit()\n",
    "coneccion.close()"
   ]
  },
  {
   "attachments": {},
   "cell_type": "markdown",
   "metadata": {},
   "source": [
    "### insertar varios registros a la vez"
   ]
  },
  {
   "cell_type": "code",
   "execution_count": 8,
   "metadata": {},
   "outputs": [],
   "source": [
    "coneccion = sqlite3.connect('basededatos1.db')\n",
    "cursor = coneccion.cursor()\n",
    "\n",
    "lista = [('Benjamin', 'Martinez', 'Osorio', 27), ('Damaris', 'Flores', 'Rincon', 22), ('Kori', 'Martinez', 'Flores', 8)]\n",
    "cursor.executemany(\"INSERT INTO PERSONAS VALUES (?,?,?,?)\", lista)\n",
    "coneccion.commit()\n",
    "coneccion.close()"
   ]
  },
  {
   "cell_type": "code",
   "execution_count": 9,
   "metadata": {},
   "outputs": [],
   "source": [
    "conexion = sqlite3.connect('basededatos1.db')\n",
    "cursor = conexion.cursor()\n",
    "lista1 = [('Juan', 'García', 'López', 25), ('María', 'Rodríguez', 'Martínez', 32), ('Carlos', 'López', 'González', 40), ('Ana', 'Hernández', 'Ramírez', 28), ('Pedro', 'Sánchez', 'Vargas', 45), ('Laura', 'Gómez', 'Torres', 33), ('Luis', 'González', 'Gómez', 29), ('Sofía', 'Pérez', 'Ruíz', 37), ('Diego', 'Torres', 'Hernández', 31), ('Marta', 'Jiménez', 'Silva', 42), ('José', 'Martínez', 'García', 36), ('Carmen', 'Flores', 'Soto', 39), ('Andrés', 'Vargas', 'Luna', 27), ('Paula', 'Ruíz', 'Morales', 34), ('Fernando', 'Silva', 'Pérez', 43), ('Mónica', 'Ramírez', 'Sánchez', 41), ('Daniel', 'Luna', 'Hernández', 30), ('Lucía', 'Gómez', 'Flores', 35), ('David', 'García', 'Martínez', 38), ('Patricia', 'Hernández', 'González', 26), ('Roberto', 'Soto', 'Torres', 44), ('Silvia', 'Torres', 'López', 23), ('Jorge', 'Martínez', 'Jiménez', 29), ('Elena', 'Vargas', 'Pérez', 32), ('Ricardo', 'Hernández', 'Silva', 37), ('Isabel', 'López', 'Ruíz', 31), ('Alejandro', 'González', 'Vargas', 26), ('Natalia', 'Flores', 'Soto', 40), ('Alberto', 'Silva', 'Luna', 33), ('Beatriz', 'Ruíz', 'García', 38), ('Gabriel', 'Pérez', 'Torres', 24), ('Clara', 'Sánchez', 'Gómez', 35), ('Miguel', 'Jiménez', 'Hernández', 28), ('Raquel', 'García', 'Flores', 39), ('Hugo', 'Torres', 'Martínez', 30), ('Marina', 'Soto', 'Vargas', 42), ('Andrea', 'López', 'Silva', 27), ('Adrián', 'Martínez', 'Pérez', 34), ('Valeria', 'Hernández', 'Ruíz', 41), ('Sergio', 'Gómez', 'Luna', 23), ('Cecilia', 'Vargas', 'González', 36), ('Pablo', 'Silva', 'Flores', 29), ('Julia', 'Ruíz', 'Sánchez', 44), ('Manuel', 'Pérez', 'Jiménez', 25), ('Carolina', 'Flores', 'Torres', 32)]\n",
    "cursor.executemany(\"INSERT INTO PERSONAS VALUES (?,?,?,?)\", lista1)\n",
    "conexion.commit()\n",
    "conexion.close()"
   ]
  },
  {
   "attachments": {},
   "cell_type": "markdown",
   "metadata": {},
   "source": [
    "### consultar datos de la base de datos"
   ]
  },
  {
   "cell_type": "code",
   "execution_count": 20,
   "metadata": {},
   "outputs": [
    {
     "name": "stdout",
     "output_type": "stream",
     "text": [
      "<class 'list'>\n"
     ]
    }
   ],
   "source": [
    "conexion= sqlite3.connect('basededatos1.db')\n",
    "cursor = conexion.cursor()\n",
    "cursor.execute(\"SELECT * FROM PERSONAS\")\n",
    "personas = cursor.fetchall()\n",
    "print(type(personas))"
   ]
  },
  {
   "cell_type": "code",
   "execution_count": 21,
   "metadata": {},
   "outputs": [
    {
     "name": "stdout",
     "output_type": "stream",
     "text": [
      "('Antonio', 'Perez', 'Gomez', 35)\n",
      "('Benjamin', 'Martinez', 'Osorio', 27)\n",
      "('Damaris', 'Flores', 'Rincon', 22)\n",
      "('Kori', 'Martinez', 'Flores', 8)\n"
     ]
    }
   ],
   "source": [
    "for persona in personas:\n",
    "    print(persona)\n",
    "conexion.close()"
   ]
  },
  {
   "attachments": {},
   "cell_type": "markdown",
   "metadata": {},
   "source": [
    "### consultar datos con WHERE (una determinada condicion)"
   ]
  },
  {
   "cell_type": "code",
   "execution_count": 10,
   "metadata": {},
   "outputs": [
    {
     "name": "stdout",
     "output_type": "stream",
     "text": [
      "[('Kori', 'Martinez', 'Flores', 8)]\n"
     ]
    }
   ],
   "source": [
    "conexion = sqlite3.connect('basededatos1.db')\n",
    "cursor =conexion.cursor()\n",
    "cursor.execute(\"SELECT * FROM PERSONAS WHERE edad < 20\")\n",
    "persona_seleccionadas=cursor.fetchall()\n",
    "print(persona_seleccionadas)\n",
    "conexion.close()"
   ]
  },
  {
   "attachments": {},
   "cell_type": "markdown",
   "metadata": {},
   "source": [
    "### consultar datos y ordenarlos"
   ]
  },
  {
   "cell_type": "code",
   "execution_count": 11,
   "metadata": {},
   "outputs": [
    {
     "name": "stdout",
     "output_type": "stream",
     "text": [
      "('Kori', 'Martinez', 'Flores', 8)\n",
      "('Damaris', 'Flores', 'Rincon', 22)\n",
      "('Silvia', 'Torres', 'López', 23)\n",
      "('Sergio', 'Gómez', 'Luna', 23)\n",
      "('Gabriel', 'Pérez', 'Torres', 24)\n",
      "('Juan', 'García', 'López', 25)\n",
      "('Manuel', 'Pérez', 'Jiménez', 25)\n",
      "('Patricia', 'Hernández', 'González', 26)\n",
      "('Alejandro', 'González', 'Vargas', 26)\n",
      "('Benjamin', 'Martinez', 'Osorio', 27)\n",
      "('Andrés', 'Vargas', 'Luna', 27)\n",
      "('Andrea', 'López', 'Silva', 27)\n",
      "('Ana', 'Hernández', 'Ramírez', 28)\n",
      "('Miguel', 'Jiménez', 'Hernández', 28)\n",
      "('Luis', 'González', 'Gómez', 29)\n",
      "('Jorge', 'Martínez', 'Jiménez', 29)\n",
      "('Pablo', 'Silva', 'Flores', 29)\n",
      "('Daniel', 'Luna', 'Hernández', 30)\n",
      "('Hugo', 'Torres', 'Martínez', 30)\n",
      "('Diego', 'Torres', 'Hernández', 31)\n",
      "('Isabel', 'López', 'Ruíz', 31)\n",
      "('María', 'Rodríguez', 'Martínez', 32)\n",
      "('Elena', 'Vargas', 'Pérez', 32)\n",
      "('Carolina', 'Flores', 'Torres', 32)\n",
      "('Laura', 'Gómez', 'Torres', 33)\n",
      "('Alberto', 'Silva', 'Luna', 33)\n",
      "('Paula', 'Ruíz', 'Morales', 34)\n",
      "('Adrián', 'Martínez', 'Pérez', 34)\n",
      "('Lucía', 'Gómez', 'Flores', 35)\n",
      "('Clara', 'Sánchez', 'Gómez', 35)\n",
      "('José', 'Martínez', 'García', 36)\n",
      "('Cecilia', 'Vargas', 'González', 36)\n",
      "('Sofía', 'Pérez', 'Ruíz', 37)\n",
      "('Ricardo', 'Hernández', 'Silva', 37)\n",
      "('David', 'García', 'Martínez', 38)\n",
      "('Beatriz', 'Ruíz', 'García', 38)\n",
      "('Carmen', 'Flores', 'Soto', 39)\n",
      "('Raquel', 'García', 'Flores', 39)\n",
      "('Carlos', 'López', 'González', 40)\n",
      "('Natalia', 'Flores', 'Soto', 40)\n",
      "('Mónica', 'Ramírez', 'Sánchez', 41)\n",
      "('Valeria', 'Hernández', 'Ruíz', 41)\n",
      "('Marta', 'Jiménez', 'Silva', 42)\n",
      "('Marina', 'Soto', 'Vargas', 42)\n",
      "('Fernando', 'Silva', 'Pérez', 43)\n",
      "('Roberto', 'Soto', 'Torres', 44)\n",
      "('Julia', 'Ruíz', 'Sánchez', 44)\n",
      "('Pedro', 'Sánchez', 'Vargas', 45)\n"
     ]
    }
   ],
   "source": [
    "conexion = sqlite3.connect('basededatos1.db')\n",
    "cursor = conexion.cursor()\n",
    "cursor.execute(\"SELECT * FROM PERSONAS ORDER BY edad\")\n",
    "lista_edad=cursor.fetchall()\n",
    "for persona in lista_edad:\n",
    "    print (persona)\n",
    "conexion.close()"
   ]
  },
  {
   "attachments": {},
   "cell_type": "markdown",
   "metadata": {},
   "source": [
    "## borrar datos en tabla PERSONAS"
   ]
  },
  {
   "cell_type": "code",
   "execution_count": 13,
   "metadata": {},
   "outputs": [],
   "source": [
    "conexion=sqlite3.connect('basededatos1.db')\n",
    "cursor = conexion.cursor()\n",
    "cursor.execute(\"DELETE FROM PERSONAS WHERE edad >= 40\")\n",
    "conexion.commit()\n",
    "conexion.close()"
   ]
  },
  {
   "attachments": {},
   "cell_type": "markdown",
   "metadata": {},
   "source": [
    "### actualizar datos"
   ]
  },
  {
   "cell_type": "code",
   "execution_count": 14,
   "metadata": {},
   "outputs": [],
   "source": [
    "conexion = sqlite3.connect('basededatos1.db')\n",
    "cursor = conexion.cursor()\n",
    "cursor.execute(\"UPDATE PERSONAS SET edad = 28 WHERE nombre = 'Benjamin'\")\n",
    "conexion.commit()\n",
    "conexion.close()"
   ]
  },
  {
   "attachments": {},
   "cell_type": "markdown",
   "metadata": {},
   "source": [
    "# ejercicio 1"
   ]
  },
  {
   "cell_type": "code",
   "execution_count": 15,
   "metadata": {},
   "outputs": [],
   "source": [
    "conexion = sqlite3.connect('basededatos1.db')\n",
    "cursor = conexion.cursor()\n",
    "cursor.execute(\"CREATE TABLE PRODUCTOS (id INTEGER, nombre TEXT, precio INTEGER)\")\n",
    "conexion.commit()\n",
    "conexion.close()"
   ]
  },
  {
   "cell_type": "code",
   "execution_count": 16,
   "metadata": {},
   "outputs": [],
   "source": [
    "productos = [\n",
    "    (1, \"Lápiz\", 199),\n",
    "    (2, \"Cuaderno\", 499),\n",
    "    (3, \"Bolígrafo\", 249),\n",
    "    (4, \"Calculadora\", 999),\n",
    "    (5, \"Papel\", 349),\n",
    "    (6, \"Grapadora\", 699),\n",
    "    (7, \"Notas adhesivas\", 149),\n",
    "    (8, \"Cinta adhesiva\", 299),\n",
    "    (9, \"Resaltador\", 199),\n",
    "    (10, \"Tijeras\", 399)\n",
    "]"
   ]
  },
  {
   "cell_type": "code",
   "execution_count": 17,
   "metadata": {},
   "outputs": [],
   "source": [
    "conexion = sqlite3.connect('basededatos1.db')\n",
    "cursor = conexion.cursor()\n",
    "cursor.executemany(\"INSERT INTO PRODUCTOS VALUES (?,?,?)\", productos)\n",
    "conexion.commit()\n",
    "conexion.close()"
   ]
  }
 ],
 "metadata": {
  "kernelspec": {
   "display_name": "myenv",
   "language": "python",
   "name": "myenv"
  },
  "language_info": {
   "codemirror_mode": {
    "name": "ipython",
    "version": 3
   },
   "file_extension": ".py",
   "mimetype": "text/x-python",
   "name": "python",
   "nbconvert_exporter": "python",
   "pygments_lexer": "ipython3",
   "version": "3.10.6"
  },
  "orig_nbformat": 4
 },
 "nbformat": 4,
 "nbformat_minor": 2
}
