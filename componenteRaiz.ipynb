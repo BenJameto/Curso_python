{
 "cells": [
  {
   "attachments": {},
   "cell_type": "markdown",
   "metadata": {},
   "source": [
    "# Modulo tkinter"
   ]
  },
  {
   "cell_type": "code",
   "execution_count": 30,
   "metadata": {},
   "outputs": [],
   "source": [
    "import tkinter\n",
    "from tkinter import messagebox\n",
    "from tkinter import filedialog"
   ]
  },
  {
   "attachments": {},
   "cell_type": "markdown",
   "metadata": {},
   "source": [
    "## Componente raiz"
   ]
  },
  {
   "cell_type": "code",
   "execution_count": 18,
   "metadata": {},
   "outputs": [
    {
     "data": {
      "text/plain": [
       "''"
      ]
     },
     "execution_count": 18,
     "metadata": {},
     "output_type": "execute_result"
    }
   ],
   "source": [
    "raiz = tkinter.Tk()\n",
    "raiz.title('Mi programa')\n",
    "#raiz.mainloop()"
   ]
  },
  {
   "attachments": {},
   "cell_type": "markdown",
   "metadata": {},
   "source": [
    "## componente frame"
   ]
  },
  {
   "cell_type": "code",
   "execution_count": 34,
   "metadata": {},
   "outputs": [],
   "source": [
    "frame = tkinter.Frame(raiz)\n",
    "frame.config(bg= 'blue', width=400, height= 300)\n",
    "frame.pack()"
   ]
  },
  {
   "attachments": {},
   "cell_type": "markdown",
   "metadata": {},
   "source": [
    "## componente label"
   ]
  },
  {
   "cell_type": "code",
   "execution_count": 9,
   "metadata": {},
   "outputs": [],
   "source": [
    "texto = \"Hola mundo\"\n",
    "etiquieta = tkinter.Label(raiz, text=texto)\n",
    "etiquieta.config(fg=\"green\", bg=\"orange\", font=(\"Cortana\",30))\n",
    "etiquieta.pack()"
   ]
  },
  {
   "cell_type": "code",
   "execution_count": 36,
   "metadata": {},
   "outputs": [],
   "source": [
    "raiz.mainloop()"
   ]
  },
  {
   "cell_type": "code",
   "execution_count": 32,
   "metadata": {},
   "outputs": [],
   "source": [
    "\n",
    "\"\"\"\n",
    "raiz = tkinter.Tk()\n",
    "raiz.title('Mi programa')\n",
    "\n",
    "texto = \"Hola mundo\"\n",
    "etiqueta = tkinter.Label(raiz, text=texto)\n",
    "etiqueta.config(fg=\"green\", bg=\"orange\", font=(\"Cortana\", 30))\n",
    "etiqueta.pack()\n",
    "\n",
    "raiz.mainloop()\n",
    "\"\"\""
   ]
  },
  {
   "attachments": {},
   "cell_type": "markdown",
   "metadata": {},
   "source": [
    "## componente entry\n",
    "entrada de datos or teclado"
   ]
  },
  {
   "cell_type": "code",
   "execution_count": 10,
   "metadata": {},
   "outputs": [],
   "source": [
    "entrada = tkinter.Entry(raiz)\n",
    "entrada.config(justify=\"center\", show=\"*\")\n",
    "entrada.pack()\n",
    "\n",
    "raiz.mainloop()"
   ]
  },
  {
   "attachments": {},
   "cell_type": "markdown",
   "metadata": {},
   "source": [
    "## componente text"
   ]
  },
  {
   "cell_type": "code",
   "execution_count": 12,
   "metadata": {},
   "outputs": [],
   "source": [
    "entrada = tkinter.Text(raiz)\n",
    "entrada.config(width=20, height=10, font=(\"Verdana\", 15), padx=10, pady=10, fg=\"green\", selectbackground=\"orange\")\n",
    "entrada.pack()\n",
    "raiz.mainloop()"
   ]
  },
  {
   "attachments": {},
   "cell_type": "markdown",
   "metadata": {},
   "source": [
    "## componente button (botón)"
   ]
  },
  {
   "cell_type": "code",
   "execution_count": 19,
   "metadata": {},
   "outputs": [
    {
     "name": "stdout",
     "output_type": "stream",
     "text": [
      "Hola mundo\n",
      "Hola mundo\n",
      "Hola mundo\n"
     ]
    }
   ],
   "source": [
    "def accion():\n",
    "    print(\"Hola mundo\")\n",
    "\n",
    "texto=\"Ejecutar\"\n",
    "boton = tkinter.Button(raiz, text=texto, command=accion)\n",
    "boton.config(fg=\"green\")\n",
    "boton.pack()\n",
    "\n",
    "raiz.mainloop()"
   ]
  },
  {
   "attachments": {},
   "cell_type": "markdown",
   "metadata": {},
   "source": [
    "## radiobutton"
   ]
  },
  {
   "cell_type": "code",
   "execution_count": 20,
   "metadata": {},
   "outputs": [
    {
     "name": "stdout",
     "output_type": "stream",
     "text": [
      "La opcion seleccionada es 3\n",
      "La opcion seleccionada es 2\n",
      "La opcion seleccionada es 1\n"
     ]
    }
   ],
   "source": [
    "raiz = tkinter.Tk()\n",
    "raiz.title(\"Mi programa\")\n",
    "\n",
    "def seleccionar():\n",
    "    print(\"La opcion seleccionada es {}\".format(opcion.get()))\n",
    "\n",
    "opcion = tkinter.IntVar()\n",
    "\n",
    "\n",
    "rb1 = tkinter.Radiobutton(raiz, text=\"Opcion 1\", variable=opcion, value=1,command=seleccionar)\n",
    "rb1.pack()\n",
    "\n",
    "rb2 = tkinter.Radiobutton(raiz, text=\"Opcion 2\", variable=opcion, value=2,command=seleccionar)\n",
    "rb2.pack()\n",
    "\n",
    "rb3= tkinter.Radiobutton(raiz, text=\"Opcion 3\", variable=opcion, value=3,command=seleccionar)\n",
    "rb3.pack()\n",
    "\n",
    "\n",
    "raiz.mainloop()"
   ]
  },
  {
   "attachments": {},
   "cell_type": "markdown",
   "metadata": {},
   "source": [
    "## Checkbutton"
   ]
  },
  {
   "cell_type": "code",
   "execution_count": 24,
   "metadata": {},
   "outputs": [
    {
     "name": "stdout",
     "output_type": "stream",
     "text": [
      "El Check esta activado\n",
      "El check esta desactivado\n",
      "El Check esta activado\n",
      "El check esta desactivado\n"
     ]
    }
   ],
   "source": [
    "raiz = tkinter.Tk()\n",
    "raiz.title(\"Mi programa\")\n",
    "\n",
    "def verificar():\n",
    "    valor = chek1.get()\n",
    "    if (valor == 1):\n",
    "        print(\"El Check esta activado\")\n",
    "    else:\n",
    "        print(\"El check esta desactivado\")\n",
    "\n",
    "\n",
    "chek1 = tkinter.IntVar()\n",
    "\n",
    "boton1 = tkinter.Checkbutton(raiz, text=\"Opcion 1\", variable= chek1, onvalue=1, offvalue=0, command=verificar)\n",
    "boton1.pack()\n",
    "\n",
    "raiz.mainloop()"
   ]
  },
  {
   "attachments": {},
   "cell_type": "markdown",
   "metadata": {},
   "source": [
    "## Messagebox (mostrar informacion)"
   ]
  },
  {
   "cell_type": "code",
   "execution_count": 25,
   "metadata": {},
   "outputs": [],
   "source": [
    "from tkinter import messagebox\n",
    "\n",
    "raiz = tkinter.Tk()\n",
    "raiz.title(\"mi programa\")\n",
    "\n",
    "#crear componente \"popup\"\n",
    "\n",
    "def avisar():\n",
    "    tkinter.messagebox.showinfo(\"Titulo\", \"Mensaje con la informacion\")\n",
    "\n",
    "\n",
    "boton = tkinter.Button(raiz, text=\"Pulsar para aviso\", command=avisar)\n",
    "boton.pack()\n",
    "\n",
    "\n",
    "raiz.mainloop()"
   ]
  },
  {
   "attachments": {},
   "cell_type": "markdown",
   "metadata": {},
   "source": [
    "## Messagebox para realizar preguntas"
   ]
  },
  {
   "cell_type": "code",
   "execution_count": 28,
   "metadata": {},
   "outputs": [
    {
     "name": "stdout",
     "output_type": "stream",
     "text": [
      "afirmativo\n",
      "negativo\n"
     ]
    }
   ],
   "source": [
    "raiz = tkinter.Tk()\n",
    "raiz.title(\"mi programa\")\n",
    "\n",
    "#Crear una ventana para preguntar o confirmar algo\n",
    "\n",
    "def preguntar():\n",
    "    answer=tkinter.messagebox.askquestion(\"titulo de la pregunta\", \"¿Quieres borrar este fichero?\")\n",
    "    if (answer == \"yes\"):\n",
    "        print(\"afirmativo\")\n",
    "    else:\n",
    "        print(\"negativo\")\n",
    "\n",
    "boton = tkinter.Button(raiz, text=\"Pulsar para preguntar\", command=preguntar)\n",
    "boton.pack()\n",
    "\n",
    "raiz.mainloop()"
   ]
  },
  {
   "attachments": {},
   "cell_type": "markdown",
   "metadata": {},
   "source": [
    "## Filedialog para abrir un fichero"
   ]
  },
  {
   "cell_type": "code",
   "execution_count": 31,
   "metadata": {},
   "outputs": [
    {
     "name": "stdout",
     "output_type": "stream",
     "text": [
      "/home/jameto/Documentos/Henry_Course/M1/Clase 02/Emisiones_CO2.csv\n"
     ]
    }
   ],
   "source": [
    "raiz = tkinter.Tk()\n",
    "raiz.title(\"mi programa\")\n",
    "\n",
    "#crear un metodo para abrir un fichero\n",
    "def abrirFichero():\n",
    "    ruta_fichero=filedialog.askopenfilename(title=\"Abrir fichero\")\n",
    "    print(ruta_fichero)\n",
    "\n",
    "\n",
    "boton=tkinter.Button(raiz, text=\"Pulsar para empezar\", command=abrirFichero)\n",
    "boton.pack()\n",
    "\n",
    "raiz.mainloop()"
   ]
  }
 ],
 "metadata": {
  "kernelspec": {
   "display_name": "myenv",
   "language": "python",
   "name": "myenv"
  },
  "language_info": {
   "codemirror_mode": {
    "name": "ipython",
    "version": 3
   },
   "file_extension": ".py",
   "mimetype": "text/x-python",
   "name": "python",
   "nbconvert_exporter": "python",
   "pygments_lexer": "ipython3",
   "version": "3.10.6"
  },
  "orig_nbformat": 4
 },
 "nbformat": 4,
 "nbformat_minor": 2
}
