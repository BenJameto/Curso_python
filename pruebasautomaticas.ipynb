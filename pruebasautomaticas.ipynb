{
 "cells": [
  {
   "attachments": {},
   "cell_type": "markdown",
   "metadata": {},
   "source": [
    "# pruebas automaticas"
   ]
  },
  {
   "attachments": {},
   "cell_type": "markdown",
   "metadata": {},
   "source": [
    "### Doctest"
   ]
  },
  {
   "cell_type": "code",
   "execution_count": null,
   "metadata": {},
   "outputs": [],
   "source": [
    "def sumar(numero1, numero2):\n",
    "    \"\"\"\n",
    "    Esta funcion recibe dos numeros como parametros y devuelve su suma\n",
    "\n",
    "    >>> sumar(4,3)\n",
    "    7\n",
    "\n",
    "    >>> sumar(5,4)\n",
    "    9\n",
    "\n",
    "    >>> sumar(1,3)\n",
    "    8\n",
    "    \"\"\"\n",
    "    return numero1+numero2\n",
    "\n",
    "\n",
    "resultado = sumar(2,4)\n",
    "print(resultado)\n",
    "\n",
    "import doctest\n",
    "doctest.testmod()"
   ]
  },
  {
   "cell_type": "code",
   "execution_count": null,
   "metadata": {},
   "outputs": [],
   "source": [
    "def multiplicar(num1, num2):\n",
    "    return num1*num2\n",
    "\n",
    "resultado = multiplicar(5,5)\n",
    "print(resultado)\n",
    "\n",
    "\n",
    "import unittest\n",
    "class pruebas(unittest.TestCase):\n",
    "    def test(self):\n",
    "        self.assertEqual(multiplicar(4,6),24)\n",
    "\n",
    "if __name__ == '__main__':\n",
    "    unittest.main()"
   ]
  },
  {
   "cell_type": "code",
   "execution_count": null,
   "metadata": {},
   "outputs": [],
   "source": []
  }
 ],
 "metadata": {
  "kernelspec": {
   "display_name": "myenv",
   "language": "python",
   "name": "myenv"
  },
  "language_info": {
   "codemirror_mode": {
    "name": "ipython",
    "version": 3
   },
   "file_extension": ".py",
   "mimetype": "text/x-python",
   "name": "python",
   "nbconvert_exporter": "python",
   "pygments_lexer": "ipython3",
   "version": "3.10.6"
  },
  "orig_nbformat": 4
 },
 "nbformat": 4,
 "nbformat_minor": 2
}
