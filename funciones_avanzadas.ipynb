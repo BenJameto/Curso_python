{
 "cells": [
  {
   "attachments": {},
   "cell_type": "markdown",
   "metadata": {},
   "source": [
    "# Funciones avanzadas"
   ]
  },
  {
   "attachments": {},
   "cell_type": "markdown",
   "metadata": {},
   "source": [
    "### Funciones Generadoras"
   ]
  },
  {
   "cell_type": "code",
   "execution_count": null,
   "metadata": {},
   "outputs": [],
   "source": [
    "for numero in range (0,11):\n",
    "    print(numero)\n",
    "\n",
    "for n in range(11):\n",
    "    print(n)"
   ]
  },
  {
   "cell_type": "code",
   "execution_count": 4,
   "metadata": {},
   "outputs": [],
   "source": [
    "def pares(maximo):\n",
    "    for numero in range(maximo):\n",
    "        if (numero % 2 == 0):\n",
    "            yield numero"
   ]
  },
  {
   "cell_type": "code",
   "execution_count": 5,
   "metadata": {},
   "outputs": [
    {
     "name": "stdout",
     "output_type": "stream",
     "text": [
      "0\n",
      "2\n",
      "4\n",
      "6\n",
      "8\n",
      "10\n"
     ]
    }
   ],
   "source": [
    "for numero in pares(11):\n",
    "    print(numero)"
   ]
  },
  {
   "cell_type": "code",
   "execution_count": 15,
   "metadata": {},
   "outputs": [
    {
     "data": {
      "text/plain": [
       "0"
      ]
     },
     "execution_count": 15,
     "metadata": {},
     "output_type": "execute_result"
    }
   ],
   "source": [
    "def pares(maximo):\n",
    "    for numero in range(maximo):\n",
    "        if (numero % 2 == 0):\n",
    "            return numero\n",
    "        \n",
    "\n",
    "pares(11)\n"
   ]
  },
  {
   "cell_type": "code",
   "execution_count": 12,
   "metadata": {},
   "outputs": [
    {
     "name": "stdout",
     "output_type": "stream",
     "text": [
      "0\n",
      "2\n",
      "4\n",
      "6\n",
      "8\n",
      "10\n"
     ]
    }
   ],
   "source": [
    "def pares(maximo):\n",
    "    for numero in range(maximo):\n",
    "        if (numero % 2 == 0):\n",
    "            print(numero)\n",
    "\n",
    "pares(11)\n"
   ]
  },
  {
   "attachments": {},
   "cell_type": "markdown",
   "metadata": {},
   "source": [
    "### filter - Funcion para filtrar resultados segun una condicion"
   ]
  },
  {
   "cell_type": "code",
   "execution_count": 16,
   "metadata": {},
   "outputs": [],
   "source": [
    "def positivo (numero):\n",
    "    if(numero > 0):\n",
    "        return True\n",
    "    else:\n",
    "        return False"
   ]
  },
  {
   "cell_type": "code",
   "execution_count": 28,
   "metadata": {},
   "outputs": [],
   "source": [
    "def mult4(numero):\n",
    "    if(numero % 4 == 0):\n",
    "        return True\n",
    "    else:\n",
    "        return False"
   ]
  },
  {
   "cell_type": "code",
   "execution_count": 19,
   "metadata": {},
   "outputs": [
    {
     "data": {
      "text/plain": [
       "False"
      ]
     },
     "execution_count": 19,
     "metadata": {},
     "output_type": "execute_result"
    }
   ],
   "source": [
    "positivo(5)\n",
    "positivo(-5)"
   ]
  },
  {
   "cell_type": "code",
   "execution_count": 21,
   "metadata": {},
   "outputs": [],
   "source": [
    "import random\n",
    "\n",
    "numeros = []\n",
    "for _ in range(100):\n",
    "    numero = random.randint(-50, 50)\n",
    "    numeros.append(numero)"
   ]
  },
  {
   "cell_type": "code",
   "execution_count": 24,
   "metadata": {},
   "outputs": [
    {
     "name": "stdout",
     "output_type": "stream",
     "text": [
      "[50, 14, 43, 37, 19, 42, 21, 6, 29, 41, 9, 1, 3, 19, 13, 7, 25, 34, 30, 26, 36, 24, 29, 12, 4, 49, 3, 35, 39, 29, 1, 30, 28, 50, 44, 1, 3, 2, 19, 39, 6, 15, 16, 25, 8, 11, 29, 23, 15, 25, 2, 6]\n"
     ]
    }
   ],
   "source": [
    "filtro = filter(positivo, numeros)\n",
    "resultado = list(filtro)\n",
    "print(resultado)"
   ]
  },
  {
   "attachments": {},
   "cell_type": "markdown",
   "metadata": {},
   "source": [
    "### Map -Aplicar una funcion a una lista"
   ]
  },
  {
   "cell_type": "code",
   "execution_count": 26,
   "metadata": {},
   "outputs": [],
   "source": [
    "def multiplicar(numero):\n",
    "    return numero * 3"
   ]
  },
  {
   "cell_type": "code",
   "execution_count": 29,
   "metadata": {},
   "outputs": [
    {
     "name": "stdout",
     "output_type": "stream",
     "text": [
      "[-36, -24, -40, 36, -16, 0, 24, -44, 12, 4, -32, -16, -32, 28, 44, -32, -32, 16, 8, -24]\n"
     ]
    }
   ],
   "source": [
    "filtro = filter(mult4, numeros)\n",
    "resultado = list(filtro)\n",
    "print(resultado)"
   ]
  },
  {
   "cell_type": "code",
   "execution_count": 44,
   "metadata": {},
   "outputs": [
    {
     "name": "stdout",
     "output_type": "stream",
     "text": [
      "[-108, -72, -120, 108, -48, 0, 72, -132, 36, 12, -96, -48, -96, 84, 132, -96, -96, 48, 24, -72]\n"
     ]
    }
   ],
   "source": [
    "mapeo = map(multiplicar, resultado)\n",
    "lista_map=list(mapeo)\n",
    "print(lista_map)"
   ]
  },
  {
   "cell_type": "code",
   "execution_count": 40,
   "metadata": {},
   "outputs": [
    {
     "name": "stdout",
     "output_type": "stream",
     "text": [
      "[-108, -72, -120, 108, -48, 0, 72, -132, 36, 12, -96, -48, -96, 84, 132, -96, -96, 48, 24, -72]\n"
     ]
    }
   ],
   "source": [
    "poceso_equivalente = list(map(multiplicar,resultado))\n",
    "print(poceso_equivalente)"
   ]
  },
  {
   "cell_type": "code",
   "execution_count": 43,
   "metadata": {},
   "outputs": [
    {
     "name": "stdout",
     "output_type": "stream",
     "text": [
      "[-108, -72, -120, 108, -48, 0, 72, -132, 36, 12, -96, -48, -96, 84, 132, -96, -96, 48, 24, -72]\n"
     ]
    }
   ],
   "source": [
    "con_lambdas=list(map(lambda numero: numero * 3, resultado))\n",
    "print(con_lambdas)"
   ]
  },
  {
   "cell_type": "code",
   "execution_count": 45,
   "metadata": {},
   "outputs": [],
   "source": [
    "import math\n",
    "\n",
    "def es_primo(n, divisor=2):\n",
    "    if n < 2:\n",
    "        return False\n",
    "    if divisor > math.isqrt(n):\n",
    "        return True\n",
    "    if n % divisor == 0:\n",
    "        return False\n",
    "    return es_primo(n, divisor + 1)"
   ]
  },
  {
   "cell_type": "code",
   "execution_count": 46,
   "metadata": {},
   "outputs": [
    {
     "name": "stdout",
     "output_type": "stream",
     "text": [
      "[2, 3, 5, 7, 11, 13, 17, 19, 23, 29, 31, 37, 41, 43, 47, 53, 59, 61, 67, 71, 73, 79, 83, 89, 97]\n"
     ]
    }
   ],
   "source": [
    "primos=[]\n",
    "for n in range(100):\n",
    "    if (es_primo(n)):\n",
    "        primos.append(n)\n",
    "\n",
    "print(primos)"
   ]
  },
  {
   "cell_type": "code",
   "execution_count": 50,
   "metadata": {},
   "outputs": [],
   "source": [
    "def primos(maximo):\n",
    "    if (maximo < 100):\n",
    "        for numero in range(maximo):\n",
    "            if (es_primo(numero)):\n",
    "                yield numero"
   ]
  },
  {
   "cell_type": "code",
   "execution_count": 52,
   "metadata": {},
   "outputs": [
    {
     "data": {
      "text/plain": [
       "[2, 3, 5, 7, 11, 13, 17, 19, 23, 29, 31, 37, 41, 43, 47]"
      ]
     },
     "execution_count": 52,
     "metadata": {},
     "output_type": "execute_result"
    }
   ],
   "source": [
    "list(primos(50))"
   ]
  },
  {
   "cell_type": "code",
   "execution_count": 55,
   "metadata": {},
   "outputs": [
    {
     "name": "stdout",
     "output_type": "stream",
     "text": [
      "[-24, 72, -46, 17, 56, -91, 20, 67, -90, -124, 44, -128, 4, -35, -4, -20, 19, -141, 135, 83, 78, -37, -105, -100, 68, -21, 140, 116, -63, -118, 2, -37, 20, -72, 66, -35, 8, 113, -39, 90, -62, -29, -7, -112, -38, -47, -97, 82, 44, -39]\n"
     ]
    }
   ],
   "source": [
    "import random\n",
    "\n",
    "ejercicio2 = []\n",
    "for _ in range(50):\n",
    "    numero = random.randint(-150, 150)\n",
    "    ejercicio2.append(numero)\n",
    "\n",
    "print(ejercicio2)"
   ]
  },
  {
   "cell_type": "code",
   "execution_count": 56,
   "metadata": {},
   "outputs": [],
   "source": [
    "import random\n",
    "\n",
    "\n",
    "ejercicio2 = [random.randint(-150, 150) for _ in range(50)]"
   ]
  },
  {
   "cell_type": "code",
   "execution_count": 59,
   "metadata": {},
   "outputs": [
    {
     "name": "stdout",
     "output_type": "stream",
     "text": [
      "[-138, 82, -38, 136, 80, 22, 150, -32, -70, -74, -18, -114, -118, -10, 84, 118, 34, -58, 50, -150, 32, 46]\n"
     ]
    }
   ],
   "source": [
    "def es_par(numero):\n",
    "    if (numero % 2 == 0):\n",
    "        return True\n",
    "    else:\n",
    "        return False\n",
    "\n",
    "par=filter(es_par,ejercicio2)\n",
    "par_list=list(par)\n",
    "print(par_list)"
   ]
  },
  {
   "cell_type": "code",
   "execution_count": 60,
   "metadata": {},
   "outputs": [],
   "source": [
    "lista3 = [random.randint(-1500, 1500) for _ in range(20)]"
   ]
  },
  {
   "cell_type": "code",
   "execution_count": 63,
   "metadata": {},
   "outputs": [
    {
     "name": "stdout",
     "output_type": "stream",
     "text": [
      "[-1439, -332, 37, -404, -734, 1490, -318, -540, -180, -1295, -447, -1344, -701, 1424, -1022, 1071, 866, -524, -383, -1244]\n"
     ]
    }
   ],
   "source": [
    "print(lista3)"
   ]
  },
  {
   "cell_type": "code",
   "execution_count": 61,
   "metadata": {},
   "outputs": [],
   "source": [
    "lista_por10=list(map(lambda numero: numero *10,lista3))"
   ]
  },
  {
   "cell_type": "code",
   "execution_count": 62,
   "metadata": {},
   "outputs": [
    {
     "name": "stdout",
     "output_type": "stream",
     "text": [
      "[-14390, -3320, 370, -4040, -7340, 14900, -3180, -5400, -1800, -12950, -4470, -13440, -7010, 14240, -10220, 10710, 8660, -5240, -3830, -12440]\n"
     ]
    }
   ],
   "source": [
    "print(lista_por10)"
   ]
  },
  {
   "cell_type": "code",
   "execution_count": 64,
   "metadata": {},
   "outputs": [],
   "source": [
    "import pandas as pd\n",
    "import numpy as np"
   ]
  },
  {
   "cell_type": "code",
   "execution_count": 69,
   "metadata": {},
   "outputs": [],
   "source": [
    "df=pd.read_csv('/home/jameto/Documentos/cursoPython/poblacion2.csv', delimiter=';')"
   ]
  },
  {
   "cell_type": "code",
   "execution_count": 71,
   "metadata": {},
   "outputs": [
    {
     "data": {
      "text/html": [
       "<div>\n",
       "<style scoped>\n",
       "    .dataframe tbody tr th:only-of-type {\n",
       "        vertical-align: middle;\n",
       "    }\n",
       "\n",
       "    .dataframe tbody tr th {\n",
       "        vertical-align: top;\n",
       "    }\n",
       "\n",
       "    .dataframe thead th {\n",
       "        text-align: right;\n",
       "    }\n",
       "</style>\n",
       "<table border=\"1\" class=\"dataframe\">\n",
       "  <thead>\n",
       "    <tr style=\"text-align: right;\">\n",
       "      <th></th>\n",
       "      <th>Continente</th>\n",
       "      <th>Densidad</th>\n",
       "      <th>Superficie</th>\n",
       "      <th>Población</th>\n",
       "      <th>País más poblado</th>\n",
       "      <th>Ciudad más poblada</th>\n",
       "    </tr>\n",
       "  </thead>\n",
       "  <tbody>\n",
       "    <tr>\n",
       "      <th>0</th>\n",
       "      <td>Asia</td>\n",
       "      <td>86,88</td>\n",
       "      <td>43.810.000</td>\n",
       "      <td>4.677.291.000</td>\n",
       "      <td>China (1.392.240.000)</td>\n",
       "      <td>Tokio (35.682.000)</td>\n",
       "    </tr>\n",
       "    <tr>\n",
       "      <th>1</th>\n",
       "      <td>África</td>\n",
       "      <td>32,7</td>\n",
       "      <td>30.370.000</td>\n",
       "      <td>1.110.020.000</td>\n",
       "      <td>Nigeria (191.205.000)</td>\n",
       "      <td>El Cairo (16.794.000)</td>\n",
       "    </tr>\n",
       "    <tr>\n",
       "      <th>2</th>\n",
       "      <td>Europa</td>\n",
       "      <td>70</td>\n",
       "      <td>10.180.000</td>\n",
       "      <td>801.000.000</td>\n",
       "      <td>Rusia (112.000.000)</td>\n",
       "      <td>Moscú (18.940.000)</td>\n",
       "    </tr>\n",
       "    <tr>\n",
       "      <th>3</th>\n",
       "      <td>América</td>\n",
       "      <td>23,5</td>\n",
       "      <td>42.330.000</td>\n",
       "      <td>1.094.215.000</td>\n",
       "      <td>Estados Unidos (330.028.000)</td>\n",
       "      <td>Ciudad de México (22.577.000)</td>\n",
       "    </tr>\n",
       "    <tr>\n",
       "      <th>4</th>\n",
       "      <td>Oceanía</td>\n",
       "      <td>4,25</td>\n",
       "      <td>9.008.500</td>\n",
       "      <td>40.201.000</td>\n",
       "      <td>Australia (27.240.000)</td>\n",
       "      <td>Sídney (6.550.000)</td>\n",
       "    </tr>\n",
       "    <tr>\n",
       "      <th>5</th>\n",
       "      <td>NaN</td>\n",
       "      <td>NaN</td>\n",
       "      <td>NaN</td>\n",
       "      <td>NaN</td>\n",
       "      <td>NaN</td>\n",
       "      <td>NaN</td>\n",
       "    </tr>\n",
       "    <tr>\n",
       "      <th>6</th>\n",
       "      <td>NaN</td>\n",
       "      <td>NaN</td>\n",
       "      <td>NaN</td>\n",
       "      <td>NaN</td>\n",
       "      <td>NaN</td>\n",
       "      <td>NaN</td>\n",
       "    </tr>\n",
       "    <tr>\n",
       "      <th>7</th>\n",
       "      <td>NaN</td>\n",
       "      <td>NaN</td>\n",
       "      <td>NaN</td>\n",
       "      <td>NaN</td>\n",
       "      <td>NaN</td>\n",
       "      <td>NaN</td>\n",
       "    </tr>\n",
       "    <tr>\n",
       "      <th>8</th>\n",
       "      <td>NaN</td>\n",
       "      <td>NaN</td>\n",
       "      <td>NaN</td>\n",
       "      <td>NaN</td>\n",
       "      <td>NaN</td>\n",
       "      <td>NaN</td>\n",
       "    </tr>\n",
       "  </tbody>\n",
       "</table>\n",
       "</div>"
      ],
      "text/plain": [
       "  Continente Densidad  Superficie      Población  \\\n",
       "0       Asia    86,88  43.810.000  4.677.291.000   \n",
       "1     África     32,7  30.370.000  1.110.020.000   \n",
       "2     Europa       70  10.180.000    801.000.000   \n",
       "3    América     23,5  42.330.000  1.094.215.000   \n",
       "4    Oceanía     4,25   9.008.500     40.201.000   \n",
       "5        NaN      NaN         NaN            NaN   \n",
       "6        NaN      NaN         NaN            NaN   \n",
       "7        NaN      NaN         NaN            NaN   \n",
       "8        NaN      NaN         NaN            NaN   \n",
       "\n",
       "               País más poblado             Ciudad más poblada  \n",
       "0         China (1.392.240.000)             Tokio (35.682.000)  \n",
       "1         Nigeria (191.205.000)          El Cairo (16.794.000)  \n",
       "2           Rusia (112.000.000)             Moscú (18.940.000)  \n",
       "3  Estados Unidos (330.028.000)  Ciudad de México (22.577.000)  \n",
       "4        Australia (27.240.000)             Sídney (6.550.000)  \n",
       "5                           NaN                            NaN  \n",
       "6                           NaN                            NaN  \n",
       "7                           NaN                            NaN  \n",
       "8                           NaN                            NaN  "
      ]
     },
     "execution_count": 71,
     "metadata": {},
     "output_type": "execute_result"
    }
   ],
   "source": [
    "df"
   ]
  },
  {
   "cell_type": "code",
   "execution_count": 75,
   "metadata": {},
   "outputs": [
    {
     "name": "stdout",
     "output_type": "stream",
     "text": [
      "['Asia' '86,88' '43.810.000' '4.677.291.000' 'China (1.392.240.000)'\n",
      " 'Tokio (35.682.000)']\n"
     ]
    }
   ],
   "source": [
    "print(df.iloc[0].values)"
   ]
  },
  {
   "cell_type": "code",
   "execution_count": 74,
   "metadata": {},
   "outputs": [
    {
     "name": "stdout",
     "output_type": "stream",
     "text": [
      "Continente                             Asia\n",
      "Densidad                              86,88\n",
      "Superficie                       43.810.000\n",
      "Población                     4.677.291.000\n",
      "País más poblado      China (1.392.240.000)\n",
      "Ciudad más poblada       Tokio (35.682.000)\n",
      "Name: 0, dtype: object\n"
     ]
    }
   ],
   "source": [
    "primera_fila=df.iloc[0]\n",
    "print(primera_fila)"
   ]
  },
  {
   "cell_type": "code",
   "execution_count": 78,
   "metadata": {},
   "outputs": [
    {
     "data": {
      "text/plain": [
       "'Continente'"
      ]
     },
     "execution_count": 78,
     "metadata": {},
     "output_type": "execute_result"
    }
   ],
   "source": [
    "df.columns[0]"
   ]
  },
  {
   "cell_type": "code",
   "execution_count": 79,
   "metadata": {},
   "outputs": [
    {
     "data": {
      "text/plain": [
       "0       Asia\n",
       "1     África\n",
       "2     Europa\n",
       "3    América\n",
       "4    Oceanía\n",
       "5        NaN\n",
       "6        NaN\n",
       "7        NaN\n",
       "8        NaN\n",
       "Name: Continente, dtype: object"
      ]
     },
     "execution_count": 79,
     "metadata": {},
     "output_type": "execute_result"
    }
   ],
   "source": [
    "df['Continente']"
   ]
  },
  {
   "cell_type": "code",
   "execution_count": null,
   "metadata": {},
   "outputs": [],
   "source": []
  }
 ],
 "metadata": {
  "kernelspec": {
   "display_name": "myenv",
   "language": "python",
   "name": "myenv"
  },
  "language_info": {
   "codemirror_mode": {
    "name": "ipython",
    "version": 3
   },
   "file_extension": ".py",
   "mimetype": "text/x-python",
   "name": "python",
   "nbconvert_exporter": "python",
   "pygments_lexer": "ipython3",
   "version": "3.10.6"
  },
  "orig_nbformat": 4
 },
 "nbformat": 4,
 "nbformat_minor": 2
}
