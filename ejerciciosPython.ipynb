{
 "cells": [
  {
   "cell_type": "code",
   "execution_count": 1,
   "metadata": {},
   "outputs": [],
   "source": [
    "def operacion (numero1, numero2, numero3):\n",
    "    resultado = numero1 / (numero2 - numero3)\n",
    "    return resultado"
   ]
  },
  {
   "cell_type": "code",
   "execution_count": 3,
   "metadata": {},
   "outputs": [
    {
     "name": "stdout",
     "output_type": "stream",
     "text": [
      "5.0\n"
     ]
    }
   ],
   "source": [
    "numero1 = 5\n",
    "numero2 = 4\n",
    "numero3 = 3\n",
    "\n",
    "resultado = operacion(numero1, numero2, numero3)\n",
    "print (resultado)"
   ]
  },
  {
   "cell_type": "code",
   "execution_count": 7,
   "metadata": {},
   "outputs": [
    {
     "name": "stdout",
     "output_type": "stream",
     "text": [
      "Error,tus ultimos dos numeros deven ser distintos\n"
     ]
    }
   ],
   "source": [
    "numero1 = 6\n",
    "numero2 = 3\n",
    "numero3 = 3\n",
    "try:\n",
    "    resultado = operacion(numero1, numero2, numero3)\n",
    "    print (resultado)\n",
    "except:\n",
    "    print(\"Error,tus ultimos dos numeros deven ser distintos\")"
   ]
  },
  {
   "cell_type": "code",
   "execution_count": null,
   "metadata": {},
   "outputs": [],
   "source": [
    "#expresiones regulares (search, findall, split, sub)"
   ]
  },
  {
   "cell_type": "code",
   "execution_count": null,
   "metadata": {},
   "outputs": [],
   "source": [
    "#search"
   ]
  },
  {
   "cell_type": "code",
   "execution_count": 8,
   "metadata": {},
   "outputs": [],
   "source": [
    "import re"
   ]
  },
  {
   "cell_type": "code",
   "execution_count": 27,
   "metadata": {},
   "outputs": [],
   "source": [
    "cadena1 = \"Hola Benjamin, mi nombre es Jaime\""
   ]
  },
  {
   "cell_type": "code",
   "execution_count": 15,
   "metadata": {},
   "outputs": [
    {
     "name": "stdout",
     "output_type": "stream",
     "text": [
      "cadena NO encontrada\n"
     ]
    }
   ],
   "source": [
    "exp1 = re.search(\"Nombre\", cadena1)\n",
    "if (exp1):\n",
    "    print(\"cadena encontrada\")\n",
    "else:\n",
    "    print(\"cadena NO encontrada\")"
   ]
  },
  {
   "cell_type": "code",
   "execution_count": 28,
   "metadata": {},
   "outputs": [
    {
     "name": "stdout",
     "output_type": "stream",
     "text": [
      "expresion NO encontrada\n"
     ]
    }
   ],
   "source": [
    "exp2 = re.search(\"^Benjamin\", cadena1)\n",
    "if(exp2):\n",
    "    print(\"Expresion encontrada\")\n",
    "else:\n",
    "    print(\"expresion NO encontrada\")"
   ]
  },
  {
   "cell_type": "code",
   "execution_count": 29,
   "metadata": {},
   "outputs": [
    {
     "name": "stdout",
     "output_type": "stream",
     "text": [
      "Expresion encontrada\n"
     ]
    }
   ],
   "source": [
    "exp3= re.search(\"mi .* es\", cadena1)\n",
    "if(exp3):\n",
    "    print(\"Expresion encontrada\")\n",
    "else:\n",
    "    print(\"expresion NO encontrada\")"
   ]
  },
  {
   "cell_type": "code",
   "execution_count": null,
   "metadata": {},
   "outputs": [],
   "source": [
    "#findall"
   ]
  },
  {
   "cell_type": "code",
   "execution_count": 32,
   "metadata": {},
   "outputs": [],
   "source": [
    "texto = \"\"\"\n",
    "El carro de Luis es rojo,\n",
    "el carro de Jaime es blanco y\n",
    "el carro de Gaby es rojo\n",
    "\"\"\""
   ]
  },
  {
   "cell_type": "code",
   "execution_count": 34,
   "metadata": {},
   "outputs": [
    {
     "name": "stdout",
     "output_type": "stream",
     "text": [
      "['carro de Luis es rojo', 'carro de Gaby es rojo']\n"
     ]
    }
   ],
   "source": [
    "exp4= re.findall(\"carro .* rojo\", texto)\n",
    "print(exp4)"
   ]
  },
  {
   "cell_type": "code",
   "execution_count": null,
   "metadata": {},
   "outputs": [],
   "source": [
    "#Split"
   ]
  },
  {
   "cell_type": "code",
   "execution_count": 41,
   "metadata": {},
   "outputs": [],
   "source": [
    "texto2 = \"La silla es blanca y tiene un costo de 80 dolares\""
   ]
  },
  {
   "cell_type": "code",
   "execution_count": 36,
   "metadata": {},
   "outputs": [
    {
     "data": {
      "text/plain": [
       "['La',\n",
       " 'silla',\n",
       " 'es',\n",
       " 'blanca',\n",
       " 'y',\n",
       " 'tiene',\n",
       " 'un',\n",
       " 'costo',\n",
       " 'de',\n",
       " '80',\n",
       " 'dolares']"
      ]
     },
     "execution_count": 36,
     "metadata": {},
     "output_type": "execute_result"
    }
   ],
   "source": [
    "re.split(\"\\s\", texto2)# con barra s es un espacio"
   ]
  },
  {
   "cell_type": "code",
   "execution_count": null,
   "metadata": {},
   "outputs": [],
   "source": [
    "#sub sustitulle palabras"
   ]
  },
  {
   "cell_type": "code",
   "execution_count": 37,
   "metadata": {},
   "outputs": [
    {
     "data": {
      "text/plain": [
       "'La silla es naranja y tiene un costo de 80 dolares'"
      ]
     },
     "execution_count": 37,
     "metadata": {},
     "output_type": "execute_result"
    }
   ],
   "source": [
    "re.sub(\"blanca\", \"naranja\", texto2)"
   ]
  },
  {
   "cell_type": "code",
   "execution_count": 43,
   "metadata": {},
   "outputs": [
    {
     "data": {
      "text/plain": [
       "'La sillon verde y tiene un costo de 80 dolares'"
      ]
     },
     "execution_count": 43,
     "metadata": {},
     "output_type": "execute_result"
    }
   ],
   "source": [
    "re.sub(\"silla.* costo\", \"sillon verde y tiene un costo\", texto2)"
   ]
  },
  {
   "attachments": {},
   "cell_type": "markdown",
   "metadata": {},
   "source": [
    "## JSON"
   ]
  },
  {
   "cell_type": "code",
   "execution_count": 45,
   "metadata": {},
   "outputs": [],
   "source": [
    "import json"
   ]
  },
  {
   "cell_type": "code",
   "execution_count": 44,
   "metadata": {},
   "outputs": [],
   "source": [
    "producto1 = {\"nombre\":\"silla\", \"color\":\"blanco\", \"precio\":80}"
   ]
  },
  {
   "attachments": {},
   "cell_type": "markdown",
   "metadata": {},
   "source": [
    "#### convertir python a JSON"
   ]
  },
  {
   "cell_type": "code",
   "execution_count": 46,
   "metadata": {},
   "outputs": [],
   "source": [
    "estructuraJSON=json.dumps(producto1)"
   ]
  },
  {
   "cell_type": "code",
   "execution_count": 47,
   "metadata": {},
   "outputs": [
    {
     "data": {
      "text/plain": [
       "str"
      ]
     },
     "execution_count": 47,
     "metadata": {},
     "output_type": "execute_result"
    }
   ],
   "source": [
    "type(estructuraJSON)"
   ]
  },
  {
   "attachments": {},
   "cell_type": "markdown",
   "metadata": {},
   "source": [
    "#### Convertir JSON a diccionario"
   ]
  },
  {
   "cell_type": "code",
   "execution_count": 51,
   "metadata": {},
   "outputs": [],
   "source": [
    "jproducto2 = json.loads(estructuraJSON)"
   ]
  },
  {
   "cell_type": "code",
   "execution_count": 52,
   "metadata": {},
   "outputs": [
    {
     "data": {
      "text/plain": [
       "dict"
      ]
     },
     "execution_count": 52,
     "metadata": {},
     "output_type": "execute_result"
    }
   ],
   "source": [
    "type(jproducto2)"
   ]
  },
  {
   "attachments": {},
   "cell_type": "markdown",
   "metadata": {},
   "source": [
    "### Fecha y Hora"
   ]
  },
  {
   "cell_type": "code",
   "execution_count": 58,
   "metadata": {},
   "outputs": [],
   "source": [
    "from datetime import datetime"
   ]
  },
  {
   "cell_type": "code",
   "execution_count": 59,
   "metadata": {},
   "outputs": [
    {
     "name": "stdout",
     "output_type": "stream",
     "text": [
      "2023-05-18 00:06:14.944811\n"
     ]
    }
   ],
   "source": [
    "hoy = datetime.now()\n",
    "print(hoy)"
   ]
  },
  {
   "cell_type": "code",
   "execution_count": 61,
   "metadata": {},
   "outputs": [
    {
     "name": "stdout",
     "output_type": "stream",
     "text": [
      "La hora exacta es 0:6:14\n"
     ]
    }
   ],
   "source": [
    "#Fecha\n",
    "\n",
    "year = hoy.year\n",
    "month = hoy.month\n",
    "day = hoy.day\n",
    "\n",
    "#Hora\n",
    "hora=hoy.hour\n",
    "minutos = hoy.minute\n",
    "segundos = hoy.second\n",
    "microseg= hoy.microsecond\n",
    "\n",
    "print(\"La hora exacta es {}:{}:{}\".format(hora,minutos,segundos))"
   ]
  },
  {
   "attachments": {},
   "cell_type": "markdown",
   "metadata": {},
   "source": [
    "## ejercicio \"Expresiones regulares\"\n",
    "\n",
    "##### Crear una funcion que mediante una expresion regular indique si una palabra está en una frase\n",
    "\n",
    "##### Probar la funcion con estas frases:\n",
    "        texto= \"esto es una frase de pruebas para hacer busquedas\"\n",
    "        palabra_buscar= 'frase'\n",
    "        En caso de encontrar la palabra en la frase, indicar en que sosicion empieza y en cual finaliza"
   ]
  },
  {
   "cell_type": "code",
   "execution_count": 67,
   "metadata": {},
   "outputs": [],
   "source": [
    "import re"
   ]
  },
  {
   "cell_type": "code",
   "execution_count": 66,
   "metadata": {},
   "outputs": [],
   "source": [
    "def buscar(palabra, texto):\n",
    "    palabra_buscada= re.search(palabra,texto)\n",
    "    return palabra_buscada"
   ]
  },
  {
   "cell_type": "code",
   "execution_count": 68,
   "metadata": {},
   "outputs": [],
   "source": [
    "palabra= 'frase'\n",
    "texto= \"esto es una frase de pruebas para hacer busquedas\""
   ]
  },
  {
   "cell_type": "code",
   "execution_count": 71,
   "metadata": {},
   "outputs": [
    {
     "name": "stdout",
     "output_type": "stream",
     "text": [
      "<re.Match object; span=(12, 17), match='frase'>\n"
     ]
    }
   ],
   "source": [
    "palabra_encontrada=buscar(palabra,texto)\n",
    "print(palabra_encontrada)"
   ]
  },
  {
   "cell_type": "code",
   "execution_count": 73,
   "metadata": {},
   "outputs": [
    {
     "name": "stdout",
     "output_type": "stream",
     "text": [
      "Palabra encontrada!!\n",
      "tu palabra comienza en la sisicion 12 y finaliza en la posicion 17\n"
     ]
    }
   ],
   "source": [
    "if(palabra_encontrada):\n",
    "    print('Palabra encontrada!!')\n",
    "    inicial = palabra_encontrada.start()\n",
    "    final = palabra_encontrada.end()\n",
    "    print('tu palabra comienza en la sisicion {} y finaliza en la posicion {}'.format(inicial, final))\n",
    "else:\n",
    "    print('Palabra NO encontrada :C')"
   ]
  }
 ],
 "metadata": {
  "kernelspec": {
   "display_name": "myenv",
   "language": "python",
   "name": "myenv"
  },
  "language_info": {
   "codemirror_mode": {
    "name": "ipython",
    "version": 3
   },
   "file_extension": ".py",
   "mimetype": "text/x-python",
   "name": "python",
   "nbconvert_exporter": "python",
   "pygments_lexer": "ipython3",
   "version": "3.10.6"
  },
  "orig_nbformat": 4
 },
 "nbformat": 4,
 "nbformat_minor": 2
}
